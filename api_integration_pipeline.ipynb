{
 "cells": [
  {
   "cell_type": "markdown",
   "id": "69d6791c",
   "metadata": {},
   "source": [
    "# End-to-End FastAPI Pipeline: Code → Docker → Kubernetes\n",
    "\n",
    "Hi, I’m walking you through a full pipeline:\n",
    "1. **Python API**: health check, GET and POST endpoints\n",
    "2. **Containerization**: Dockerfile, build, run\n",
    "3. **Docker Hub**: create repo, tag, push\n",
    "4. **Kubernetes**: enable, deploy YAML, inspect\n",
    "\n",
    "All code uses dummy data so you can follow along."
   ]
  },
  {
   "cell_type": "markdown",
   "id": "b78676ea",
   "metadata": {},
   "source": [
    "## 1. Define our FastAPI app (`server.py`)\n",
    "We'll create three endpoints:\n",
    "- `GET /` for a health check\n",
    "- `GET /user/{userid}` returning dummy user data\n",
    "- `POST /user` accepting a JSON body\n"
   ]
  },
  {
   "cell_type": "code",
   "execution_count": null,
   "id": "35b96445",
   "metadata": {},
   "outputs": [],
   "source": [
    "%%bash\n",
    "cat > server.py << 'EOF'\n",
    "from fastapi import FastAPI, HTTPException\n",
    "from pydantic import BaseModel\n",
    "\n",
    "app = FastAPI()\n",
    "\n",
    "# Dummy in-memory storage\n",
    "library = {\n",
    "    111: {\"name\": \"Alice\", \"date\": \"2025-04-25\", \"service\": \"DemoService\"}\n",
    "}\n",
    "\n",
    "class UserIn(BaseModel):\n",
    "    name: str\n",
    "    date: str\n",
    "    service: str\n",
    "\n",
    "@app.get(\"/\", tags=[\"health\"])\n",
    "async def healthcheck():\n",
    "    return {\"status\": \"healthy\"}\n",
    "\n",
    "@app.get(\"/user/{userid}\", tags=[\"user\"])\n",
    "async def get_user(userid: int):\n",
    "    user = library.get(userid)\n",
    "    if not user:\n",
    "        raise HTTPException(status_code=404, detail=\"User not found\")\n",
    "    return user\n",
    "\n",
    "@app.post(\"/user\", tags=[\"user\"])\n",
    "async def create_user(user: UserIn):\n",
    "    new_id = max(library.keys()) + 1\n",
    "    library[new_id] = user.dict()\n",
    "    return {\"id\": new_id, **user.dict()}\n",
    "EOF\n",
    "\n",
    "echo \"Created server.py:\" && sed -n '1,20p' server.py"
   ]
  },
  {
   "cell_type": "markdown",
   "id": "37d6fffa",
   "metadata": {},
   "source": [
    "## 2. `requirements.txt`\n",
    "List our dependencies."
   ]
  },
  {
   "cell_type": "code",
   "execution_count": null,
   "id": "79fdd70b",
   "metadata": {},
   "outputs": [],
   "source": [
    "%%bash\n",
    "cat > requirements.txt << 'EOF'\n",
    "fastapi\n",
    "uvicorn[standard]\n",
    "EOF\n",
    "\n",
    "echo \"requirements.txt:\" && cat requirements.txt"
   ]
  },
  {
   "cell_type": "markdown",
   "id": "6902f135",
   "metadata": {},
   "source": [
    "## 3. Build & Run Locally with Docker\n",
    "**Dockerfile**:"
   ]
  },
  {
   "cell_type": "code",
   "execution_count": null,
   "id": "fe47dfde",
   "metadata": {},
   "outputs": [],
   "source": [
    "%%bash\n",
    "cat > Dockerfile << 'EOF'\n",
    "FROM python:3.11-slim\n",
    "WORKDIR /app\n",
    "COPY requirements.txt .\n",
    "RUN pip install --no-cache-dir -r requirements.txt\n",
    "COPY server.py .\n",
    "CMD [\"uvicorn\", \"server:app\", \"--host\", \"0.0.0.0\", \"--port\", \"8000\"]\n",
    "EOF\n",
    "\n",
    "echo \"Dockerfile:\" && sed -n '1,20p' Dockerfile"
   ]
  },
  {
   "cell_type": "markdown",
   "id": "18a91d12",
   "metadata": {},
   "source": [
    "### Build and run:"
   ]
  },
  {
   "cell_type": "code",
   "execution_count": null,
   "id": "074e7860",
   "metadata": {},
   "outputs": [],
   "source": [
    "%%bash\n",
    "# Build the Docker image\n",
    "docker build -t fastapi-demo:latest .\n",
    "\n",
    "# Run the container\n",
    "docker run --rm -d -p 8000:8000 --name fastapi-demo fastapi-demo:latest\n",
    "\n",
    "echo \"Container running at http://localhost:8000\"\n"
   ]
  },
  {
   "cell_type": "markdown",
   "id": "5a6aad2d",
   "metadata": {},
   "source": [
    "## 4. Push to Docker Hub\n",
    "1. Create a repo on Docker Hub (e.g. `yourdockerid/fastapi-demo`).\n",
    "\n",
    "2. Tag & push:"
   ]
  },
  {
   "cell_type": "code",
   "execution_count": null,
   "id": "a3524d51",
   "metadata": {},
   "outputs": [],
   "source": [
    "%%bash\n",
    "# Tag the image\n",
    "docker tag fastapi-demo:latest yourdockerid/fastapi-demo:latest\n",
    "\n",
    "# Push to Docker Hub\n",
    "docker push yourdockerid/fastapi-demo:latest\n"
   ]
  },
  {
   "cell_type": "markdown",
   "id": "1824e3ee",
   "metadata": {},
   "source": [
    "## 5. Enable Kubernetes (Docker Desktop or Minikube)\n",
    "- **Docker Desktop**: Settings → Kubernetes → Enable → Apply & Restart\n",
    "- **Minikube**: `minikube start`"
   ]
  },
  {
   "cell_type": "markdown",
   "id": "177aee50",
   "metadata": {},
   "source": [
    "## 6. Kubernetes Manifests\n",
    "### Deployment (`deployment.yaml`)\n"
   ]
  },
  {
   "cell_type": "code",
   "execution_count": null,
   "id": "e8bef976",
   "metadata": {},
   "outputs": [],
   "source": [
    "%%bash\n",
    "cat > deployment.yaml << 'EOF'\n",
    "apiVersion: apps/v1\n",
    "kind: Deployment\n",
    "metadata:\n",
    "  name: fastapi-demo\n",
    "spec:\n",
    "  replicas: 3\n",
    "  selector:\n",
    "    matchLabels:\n",
    "      app: fastapi-demo\n",
    "  template:\n",
    "    metadata:\n",
    "      labels:\n",
    "        app: fastapi-demo\n",
    "    spec:\n",
    "      containers:\n",
    "      - name: fastapi-demo\n",
    "        image: yourdockerid/fastapi-demo:latest\n",
    "        ports:\n",
    "        - containerPort: 8000\n",
    "EOF\n",
    "\n",
    "echo \"deployment.yaml:\" && sed -n '1,20p' deployment.yaml"
   ]
  },
  {
   "cell_type": "markdown",
   "id": "d8b14524",
   "metadata": {},
   "source": [
    "### Service (`service.yaml`)\n"
   ]
  },
  {
   "cell_type": "code",
   "execution_count": null,
   "id": "fbbff20b",
   "metadata": {},
   "outputs": [],
   "source": [
    "%%bash\n",
    "cat > service.yaml << 'EOF'\n",
    "apiVersion: v1\n",
    "kind: Service\n",
    "metadata:\n",
    "  name: fastapi-demo-svc\n",
    "spec:\n",
    "  selector:\n",
    "    app: fastapi-demo\n",
    "  type: LoadBalancer\n",
    "  ports:\n",
    "  - port: 80\n",
    "    targetPort: 8000\n",
    "EOF\n",
    "\n",
    "echo \"service.yaml:\" && sed -n '1,20p' service.yaml"
   ]
  },
  {
   "cell_type": "markdown",
   "id": "ad040346",
   "metadata": {},
   "source": [
    "## 7. Deploy to Kubernetes\n"
   ]
  },
  {
   "cell_type": "code",
   "execution_count": null,
   "id": "933cf828",
   "metadata": {},
   "outputs": [],
   "source": [
    "%%bash\n",
    "kubectl apply -f deployment.yaml\n",
    "kubectl apply -f service.yaml\n",
    "kubectl get pods,svc\n"
   ]
  },
  {
   "cell_type": "markdown",
   "id": "819dae1c",
   "metadata": {},
   "source": [
    "## 8. Verify & Inspect\n",
    "- **Check pods**: `kubectl get pods -l app=fastapi-demo`\n",
    "- **Logs**: `kubectl logs <pod-name>`\n",
    "- **Service endpoint**: e.g. `http://localhost/user/111` or `curl http://localhost/user`"
   ]
  },
  {
   "cell_type": "markdown",
   "id": "c694e4dc",
   "metadata": {},
   "source": [
    "---\n",
    "This notebook walked through:\n",
    "1. Writing a FastAPI server with health, GET, POST endpoints\n",
    "2. Packaging into Docker\n",
    "3. Pushing to Docker Hub\n",
    "4. Enabling Kubernetes\n",
    "5. Creating Deployment & Service YAMLs\n",
    "6. Deploying & inspecting the running app\n",
    "\n",
    "Feel free to customize and share this end-to-end example!"
   ]
  }
 ],
 "metadata": {},
 "nbformat": 4,
 "nbformat_minor": 5
}
